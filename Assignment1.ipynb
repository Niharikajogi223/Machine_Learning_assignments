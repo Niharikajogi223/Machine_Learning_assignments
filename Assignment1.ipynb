{
  "nbformat": 4,
  "nbformat_minor": 0,
  "metadata": {
    "colab": {
      "provenance": [],
      "authorship_tag": "ABX9TyPFtPt3RiC03K0pPpr4exMj",
      "include_colab_link": true
    },
    "kernelspec": {
      "name": "python3",
      "display_name": "Python 3"
    },
    "language_info": {
      "name": "python"
    }
  },
  "cells": [
    {
      "cell_type": "markdown",
      "metadata": {
        "id": "view-in-github",
        "colab_type": "text"
      },
      "source": [
        "<a href=\"https://colab.research.google.com/github/Niharikajogi223/Machine_Learning_assignments/blob/main/Assignment1.ipynb\" target=\"_parent\"><img src=\"https://colab.research.google.com/assets/colab-badge.svg\" alt=\"Open In Colab\"/></a>"
      ]
    },
    {
      "cell_type": "code",
      "execution_count": null,
      "metadata": {
        "colab": {
          "base_uri": "https://localhost:8080/"
        },
        "id": "g1vtVAEE57Ti",
        "outputId": "15d20de9-ada4-42fb-eefc-fb05b77f5c79"
      },
      "outputs": [
        {
          "output_type": "stream",
          "name": "stdout",
          "text": [
            "enter the weights of  N students:2\n",
            "23\n",
            "43\n",
            "weights  in lbs L1: [23, 43]\n",
            "weights in kgs : [10.43, 19.5]\n"
          ]
        }
      ],
      "source": [
        "#Question 9-program\n",
        "\n",
        "Student_list_lbs =[]\n",
        "N = int(input(\"enter the weights of  N students:\")) #taking user input\n",
        "for s in range(0,N):\n",
        "  L1 = int(input()) \n",
        "  Student_list_lbs.append(L1)\n",
        "print(\"weights  in lbs L1:\", Student_list_lbs)\n",
        "Student_list_Kgs=[]\n",
        "for j in Student_list_lbs:\n",
        "  Student_list_Kgs.append(round((j/2.20462),2)) # to convert lbs to kgs---> the lbs should be divided by 2.2046 to get in kgs\n",
        "print(\"weights in kgs :\" , Student_list_Kgs)"
      ]
    },
    {
      "cell_type": "code",
      "source": [
        "#Question 1-program\n",
        "\n",
        "ages = [19, 22, 19, 24, 20, 25, 26, 24, 25, 24]\n",
        "ages.sort() #sorting the elements\n",
        "print(\"sorted order: \" , ages)\n",
        "a = min(ages)\n",
        "b = max(ages)\n",
        "print(\"min and values in the list:\" , (a,b)) #finding min max values\n",
        "ages.append(a)\n",
        "ages.append(b)\n",
        "print(\"Adding min and max values to the list:\" ,ages) #adding min and max value to the list\n",
        "#ages.sort()\n",
        "#print(ages)\n",
        "n = len(ages) #average age\n",
        "average = sum(ages)/n\n",
        "print(\"the average age is :\" , average)\n",
        "range = max(ages) - min(ages)\n",
        "print(\"ranges of the ages:\" , range)  #range of ages\n",
        "#finding the median age\n",
        "if n % 2 == 0:  \n",
        "  median_age1 = ages[n//2]\n",
        "  median_age2 = ages[n//2 - 1]\n",
        "  median_age = (median_age1 +  median_age2) / 2\n",
        "else:\n",
        "  median_age = ages[n//2]\n",
        "print(\"median  age is:\" , median_age)\n",
        "\n"
      ],
      "metadata": {
        "colab": {
          "base_uri": "https://localhost:8080/"
        },
        "id": "ZvF2ikQ-6HhY",
        "outputId": "772be34f-1629-49f3-ca42-c30680d7608c"
      },
      "execution_count": null,
      "outputs": [
        {
          "output_type": "stream",
          "name": "stdout",
          "text": [
            "sorted order:  [19, 19, 20, 22, 24, 24, 24, 25, 25, 26]\n",
            "min and values in the list: (19, 26)\n",
            "Adding min and max values to the list: [19, 19, 20, 22, 24, 24, 24, 25, 25, 26, 19, 26]\n",
            "the average age is : 22.75\n",
            "ranges of the ages: 7\n",
            "median  age is: 24.0\n"
          ]
        }
      ]
    },
    {
      "cell_type": "code",
      "source": [
        "#Question 2-program\n",
        "\n",
        "dog = {} #creating empty list dog\n",
        "dog = { \"name\":\"cassie\",\"color\": \"black\",\"breed\":\"golden retriever\",\"legs\":\"4\",\"age\":\"3\"} #adding keys and values\n",
        "Student = {} #creating student dictionary\n",
        "Student = { \"first_name\":\"Niharika\",\"last_name\":\"jogi\",\"gender\":\"Female\",\"age\":\"22\",\"marital status\":\"unmarried\",\"skills\":[\"dancer\",\"singer\"],\"country\":\"india\",\"city\":\"Hyderabad\",\"address\":\"apt 157\"}\n",
        "length = len(Student) #length of dict\n",
        "print(\"length of Student dictionary is :\",  length)\n",
        "value = Student['skills'] #getting the values of skills\n",
        "print(\"value of skills are \" ,value)\n",
        "print(\"datatype of skills is list :\", type(['skills']) is list) #checking datatype of skills is list\n",
        "Student[\"skills\"]+=[\"Cook\", \"artist\"] # modifying the values of skills\n",
        "print(\"Modified Skills are :\" , Student[\"skills\"])\n",
        "print(\"Student Dictionary Keys as list : \" , Student.keys()) #getting the dict keys as a list\n",
        "print(\"dog Dictionary Keys as list :\" , dog.keys()) \n",
        "Student_Key_list = list(Student.values()) #getting the dict values as a list\n",
        "print(\"Student dictionary values as list :\",  Student_Key_list)\n",
        "Student_Key_list = list(dog.values())\n",
        "print(\"dog dictionary values as list :\",  Student_Key_list)"
      ],
      "metadata": {
        "colab": {
          "base_uri": "https://localhost:8080/"
        },
        "id": "hM4FtFr-6Nl9",
        "outputId": "707649ea-1fcd-463c-a90a-5d6ae85ece31"
      },
      "execution_count": null,
      "outputs": [
        {
          "output_type": "stream",
          "name": "stdout",
          "text": [
            "length of Student dictionary is : 9\n",
            "value of skills are  ['dancer', 'singer']\n",
            "datatype of skills is list : True\n",
            "Modified Skills are : ['dancer', 'singer', 'Cook', 'artist']\n",
            "Student Dictionary Keys as list :  dict_keys(['first_name', 'last_name', 'gender', 'age', 'marital status', 'skills', 'country', 'city', 'address'])\n",
            "dog Dictionary Keys as list : dict_keys(['name', 'color', 'breed', 'legs', 'age'])\n",
            "Student dictionary values as list : ['Niharika', 'jogi', 'Female', '22', 'unmarried', ['dancer', 'singer', 'Cook', 'artist'], 'india', 'Hyderabad', 'apt 157']\n",
            "dog dictionary values as list : ['cassie', 'black', 'golden retriever', '4', '3']\n"
          ]
        }
      ]
    },
    {
      "cell_type": "code",
      "source": [
        "#Question 3-program\n",
        "\n",
        "brothers = (\"nikhil\" , \"vamshi\")\n",
        "sisters = (\"geetha\", \"sita\")\n",
        "Siblings = sisters + brothers #aissigning brothers and sis to siblings\n",
        "print(\"Siblings  are:\" , Siblings)\n",
        "print(\"I have\",  len(Siblings) , \"of siblings\") # how many siblings i have\n",
        "Siblings = Siblings + (\"radha\", \"veerappa\")#adding mother father to sibling  tuple\n",
        "print(\"adding mother and father name to siblings:\" , Siblings)\n",
        "Family_members = Siblings\n",
        "print(\" family members are :\" , Family_members)\n"
      ],
      "metadata": {
        "colab": {
          "base_uri": "https://localhost:8080/"
        },
        "id": "dFXDmoVR6Q73",
        "outputId": "d2eb9819-f76f-4ebd-f298-e8fcc864fdba"
      },
      "execution_count": null,
      "outputs": [
        {
          "output_type": "stream",
          "name": "stdout",
          "text": [
            "Siblings  are: ('geetha', 'sita', 'nikhil', 'vamshi')\n",
            "I have 4 of siblings\n",
            "adding mother and father name to siblings: ('geetha', 'sita', 'nikhil', 'vamshi', 'radha', 'veerappa')\n",
            " family members are : ('geetha', 'sita', 'nikhil', 'vamshi', 'radha', 'veerappa')\n"
          ]
        }
      ]
    },
    {
      "cell_type": "code",
      "source": [
        "#Question 4-program\n",
        "\n",
        "it_companies = {'Facebook', 'Google', 'Microsoft', 'Apple', 'IBM', 'Oracle', 'Amazon'} \n",
        "length = len(it_companies)\n",
        "print(\"length of it companies:\" , length)\n",
        "it_companies.add('twitter')\n",
        "print(\"After adding twitter to it companies:\" , it_companies)\n",
        "it_companies.update(['HCL', 'wipro', 'accenture'])\n",
        "print(\"After uadding the new companies:\" , it_companies)\n",
        "it_companies.remove(\"accenture\")\n",
        "print(\"After removing the any of the company:\" , it_companies)\n",
        "#What is the difference btw remove and discard\n",
        "#Remove will  returns a error when the element is not present in our set where as, Discard will not returns any error  it simply displays the  whole set\n",
        "A = {19, 22, 24, 20, 25, 26}\n",
        "B = {19, 22, 20, 25, 26, 24, 28, 27}\n",
        "C = A.union(B)\n",
        "print(\"joining a and b :\" , C)\n",
        "D = A.intersection(B)\n",
        "print(\"intersection of A and B :\" , D)\n",
        "print(\"Is A is subset of B:\" , A.issubset(B))\n",
        "print(\"IS A is disjoint set of B:\" , A.isdisjoint(B))\n",
        "D = A.union(B)\n",
        "print(\"joining A with B:\" , D)\n",
        "E = B.union(A)\n",
        "print(\"joining B with A:\" , E)\n",
        "Symmetric_difference = A.symmetric_difference(B) #returns all the elements  except the elements which are same\n",
        "print(\"symmetric difference of a and b :\", Symmetric_difference)\n",
        "A.clear()\n",
        "B.clear()\n",
        "print(\"after deleting the sets compltely:\" , (A,B))\n",
        "age = [22, 19, 24, 25, 26, 24, 25, 24] \n",
        "age_set = set(age) #converting ages to set\n",
        "print(\"conversion of age to set :\" , age_set)\n",
        "length_age = len(age)\n",
        "length_age_set = len(age_set)\n",
        "print(\"lengths of list and set respectively:\" , length_age, length_age_set)\n",
        "Size = (length_age == length_age_set) \n",
        "print(\"Are the sizes are equal:\" , Size)\n",
        "print(\"comparing by doing the difference between list and set  :\" ,  length_age -length_age_set)\n"
      ],
      "metadata": {
        "colab": {
          "base_uri": "https://localhost:8080/"
        },
        "id": "m3i7jCP96T4G",
        "outputId": "78769f19-363a-4e93-a3fe-61d7235b71a3"
      },
      "execution_count": 10,
      "outputs": [
        {
          "output_type": "stream",
          "name": "stdout",
          "text": [
            "length of it companies: 7\n",
            "After adding twitter to it companies: {'Apple', 'Facebook', 'Google', 'Oracle', 'Microsoft', 'twitter', 'IBM', 'Amazon'}\n",
            "After uadding the new companies: {'Apple', 'Facebook', 'Google', 'Oracle', 'Microsoft', 'twitter', 'HCL', 'IBM', 'accenture', 'wipro', 'Amazon'}\n",
            "After removing the any of the company: {'Apple', 'Facebook', 'Google', 'Oracle', 'Microsoft', 'twitter', 'HCL', 'IBM', 'wipro', 'Amazon'}\n",
            "joining a and b : {19, 20, 22, 24, 25, 26, 27, 28}\n",
            "intersection of A and B : {19, 20, 22, 24, 25, 26}\n",
            "Is A is subset of B: True\n",
            "IS A is disjoint set of B: False\n",
            "joining A with B: {19, 20, 22, 24, 25, 26, 27, 28}\n",
            "joining B with A: {19, 20, 22, 24, 25, 26, 27, 28}\n",
            "symmetric difference of a and b : {27, 28}\n",
            "after deleting the sets compltely: (set(), set())\n",
            "conversion of age to set : {19, 22, 24, 25, 26}\n",
            "lengths of list and set respectively: 8 5\n",
            "Are the sizes are equal: False\n",
            "comparing by doing the difference between list and set  : 3\n"
          ]
        }
      ]
    },
    {
      "cell_type": "code",
      "source": [
        "#Question 5-program\n",
        "\n",
        "radius = int(input('Enter the radius:')) #taking user input\n",
        "print(\"radius of circle:\", radius)\n",
        "area_of_circle =  3.14*radius*radius\n",
        "print(\"Area of circle: \" , area_of_circle)\n",
        "circumference_of_circle = 2*3.14*radius\n",
        "print(\"circumference of circle:\", circumference_of_circle )"
      ],
      "metadata": {
        "colab": {
          "base_uri": "https://localhost:8080/"
        },
        "id": "QVsWROER6Yle",
        "outputId": "b64fafb3-d877-4119-8674-a3ac1d1cdf2b"
      },
      "execution_count": null,
      "outputs": [
        {
          "output_type": "stream",
          "name": "stdout",
          "text": [
            "Enter the radius:30\n",
            "radius of circle: 30\n",
            "Area of circle:  2826.0\n",
            "circumference of circle: 188.4\n"
          ]
        }
      ]
    },
    {
      "cell_type": "code",
      "source": [
        "#Question 6-program\n",
        "\n",
        "Sentence = \"I am a teacher and I love to inspire and teach people\"\n",
        "Unique_words = set(Sentence.split()) #converting sentence to  set ans split is used for seperating the strings in the sentence\n",
        "print(\"unique words are:\" , Unique_words)\n",
        "print(\"Number of unique words:\" ,len(Unique_words))\n"
      ],
      "metadata": {
        "colab": {
          "base_uri": "https://localhost:8080/"
        },
        "id": "0G1l7DnF6caR",
        "outputId": "13fbec23-788a-4162-feb1-9e0c07fb763b"
      },
      "execution_count": null,
      "outputs": [
        {
          "output_type": "stream",
          "name": "stdout",
          "text": [
            "unique words are: {'teacher', 'and', 'inspire', 'a', 'people', 'love', 'teach', 'am', 'to', 'I'}\n",
            "Number of unique words: 10\n"
          ]
        }
      ]
    },
    {
      "cell_type": "code",
      "source": [
        "#Question 7-program\n",
        "\n",
        "String = \"Name\\t\\tAge\\t\\tCountry\\t\\tCity\\nniharika\\t22\\t\\tindia\\t\\tHyderabad\" # \\t is used to get the  tab space between the words and \\n for next line\n",
        "print(String)\n"
      ],
      "metadata": {
        "colab": {
          "base_uri": "https://localhost:8080/"
        },
        "id": "-lDm4FGK6gHW",
        "outputId": "f7580ea2-63ae-4ade-f6f7-d18e56777dbc"
      },
      "execution_count": null,
      "outputs": [
        {
          "output_type": "stream",
          "name": "stdout",
          "text": [
            "Name\t\tAge\t\tCountry\t\tCity\n",
            "niharika\t22\t\tindia\t\tHyderabad\n"
          ]
        }
      ]
    },
    {
      "cell_type": "code",
      "source": [
        "#Question 8-program\n",
        "\n",
        "radius = 10\n",
        "area = 3.14 * radius ** 2\n",
        "print(\" The area of a circle with radius %s is %s meters square.\" %(radius,area)) #using modulo method (%) doing string formatting\n",
        "\n"
      ],
      "metadata": {
        "colab": {
          "base_uri": "https://localhost:8080/"
        },
        "id": "g3qULq4G6jKZ",
        "outputId": "d2084d7c-1cff-4915-e861-bb2b3b5eae98"
      },
      "execution_count": null,
      "outputs": [
        {
          "output_type": "stream",
          "name": "stdout",
          "text": [
            " The area of a circle with radius 10 is 314.0 meters square.\n"
          ]
        }
      ]
    }
  ]
}