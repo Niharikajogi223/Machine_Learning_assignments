{
  "nbformat": 4,
  "nbformat_minor": 0,
  "metadata": {
    "colab": {
      "provenance": [],
      "authorship_tag": "ABX9TyNY40bzESOjO0PwS3URM0ae",
      "include_colab_link": true
    },
    "kernelspec": {
      "name": "python3",
      "display_name": "Python 3"
    },
    "language_info": {
      "name": "python"
    }
  },
  "cells": [
    {
      "cell_type": "markdown",
      "metadata": {
        "id": "view-in-github",
        "colab_type": "text"
      },
      "source": [
        "<a href=\"https://colab.research.google.com/github/Niharikajogi223/Machine_Learning_assignments/blob/main/Assignment2.ipynb\" target=\"_parent\"><img src=\"https://colab.research.google.com/assets/colab-badge.svg\" alt=\"Open In Colab\"/></a>"
      ]
    },
    {
      "cell_type": "code",
      "execution_count": null,
      "metadata": {
        "colab": {
          "base_uri": "https://localhost:8080/"
        },
        "id": "rlGIiuBxtn5D",
        "outputId": "930da649-ec91-493e-9ca0-d11f55944045"
      },
      "outputs": [
        {
          "output_type": "stream",
          "name": "stdout",
          "text": [
            "Enter max no. of stars in the line: 5\n",
            "* \n",
            "* * \n",
            "* * * \n",
            "* * * * \n",
            "* * * * * \n",
            "* * * * \n",
            "* * * \n",
            "* * \n",
            "* \n",
            "\n"
          ]
        }
      ],
      "source": [
        "rows = int(input(\"Enter max no. of stars in the line: \"))\n",
        "for i in range (0, rows): #outer loop for rows\n",
        "    for j in range(0, i + 1): #inner loop for columns\n",
        "        print(\"* \", end='') # upto here we will print half pattern\n",
        "    print(\"\\r\") # to move to the left most column\n",
        "for i in range (rows, 0, -1):\n",
        "    for j in range(0, i -1):\n",
        "        print(\"* \", end='')\n",
        "    print(\"\\r\")"
      ]
    },
    {
      "cell_type": "code",
      "source": [
        "my_list = [10, 20, 30, 40, 50, 60, 70, 80, 90, 100]\n",
        "Odd_index  =  []\n",
        "for i in range(0,len(my_list)):\n",
        "  if i % 2 != 0 :\n",
        "    Odd_index.append(my_list[i])\n",
        "print(Odd_index)"
      ],
      "metadata": {
        "colab": {
          "base_uri": "https://localhost:8080/"
        },
        "id": "nDldxukWyolw",
        "outputId": "28c6b28a-14d9-4897-9a02-368612361a09"
      },
      "execution_count": null,
      "outputs": [
        {
          "output_type": "stream",
          "name": "stdout",
          "text": [
            "[20, 40, 60, 80, 100]\n"
          ]
        }
      ]
    },
    {
      "cell_type": "code",
      "source": [
        "string =  input(\"Enter String: \")\n",
        "lower = 0\n",
        "upper = 0\n",
        "for i in string:\n",
        "  if(i.islower()):\n",
        "    lower = lower+1\n",
        "  elif(i.isupper()):\n",
        "    upper = upper+1\n",
        "print(\"No. of Lower-case characters :\" )\n",
        "print (lower)\n",
        "print(\"No. of Upper-case characters :\")\n",
        "print(upper)"
      ],
      "metadata": {
        "colab": {
          "base_uri": "https://localhost:8080/"
        },
        "id": "gL-hpaYFzE2f",
        "outputId": "c6ae4680-4ad8-473f-fa4d-124f019e0dc6"
      },
      "execution_count": null,
      "outputs": [
        {
          "output_type": "stream",
          "name": "stdout",
          "text": [
            "Enter String: The quick Brow Fox\n",
            "No. of Lower-case characters :\n",
            "12\n",
            "No. of Upper-case characters :\n",
            "3\n"
          ]
        }
      ]
    },
    {
      "cell_type": "code",
      "source": [
        " x = [23, 'Python', 23.98]\n",
        " Type_list = []\n",
        " for i in range(len(x)):\n",
        "   Type_list.append(type(x[i]))\n",
        "print(x)\n",
        "print(Type_list)"
      ],
      "metadata": {
        "colab": {
          "base_uri": "https://localhost:8080/"
        },
        "id": "H1NUQD4e3607",
        "outputId": "30960a8f-d41e-4800-a715-df4dd596fbe1"
      },
      "execution_count": null,
      "outputs": [
        {
          "output_type": "stream",
          "name": "stdout",
          "text": [
            "[23, 'Python', 23.98]\n",
            "[<class 'int'>, <class 'str'>, <class 'float'>]\n"
          ]
        }
      ]
    },
    {
      "cell_type": "code",
      "source": [
        "def uniquelist(l):\n",
        "  new_list = []\n",
        "  for i in l:\n",
        "    if i not in new_list:\n",
        "      new_list.append(i)\n",
        "  return new_list\n",
        "print(uniquelist ( [1,2,3,3,3,3,4,5]))"
      ],
      "metadata": {
        "colab": {
          "base_uri": "https://localhost:8080/"
        },
        "id": "Ck0pa0sM4iru",
        "outputId": "d28542d9-18dd-4112-f95e-cd03abfcacca"
      },
      "execution_count": null,
      "outputs": [
        {
          "output_type": "stream",
          "name": "stdout",
          "text": [
            "[1, 2, 3, 4, 5]\n"
          ]
        }
      ]
    }
  ]
}