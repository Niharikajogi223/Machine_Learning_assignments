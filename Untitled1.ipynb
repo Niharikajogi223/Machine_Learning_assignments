{
  "nbformat": 4,
  "nbformat_minor": 0,
  "metadata": {
    "colab": {
      "provenance": [],
      "authorship_tag": "ABX9TyMwAJgUIyOb4xWVV6Fc0D9i",
      "include_colab_link": true
    },
    "kernelspec": {
      "name": "python3",
      "display_name": "Python 3"
    },
    "language_info": {
      "name": "python"
    }
  },
  "cells": [
    {
      "cell_type": "markdown",
      "metadata": {
        "id": "view-in-github",
        "colab_type": "text"
      },
      "source": [
        "<a href=\"https://colab.research.google.com/github/Niharikajogi223/Machine_Learning_assignments/blob/main/Untitled1.ipynb\" target=\"_parent\"><img src=\"https://colab.research.google.com/assets/colab-badge.svg\" alt=\"Open In Colab\"/></a>"
      ]
    },
    {
      "cell_type": "code",
      "execution_count": 13,
      "metadata": {
        "colab": {
          "base_uri": "https://localhost:8080/"
        },
        "id": "kTLQHigd9pgx",
        "outputId": "1aca5f07-e2c9-4b1f-dbb0-3e8bee9b5c90"
      },
      "outputs": [
        {
          "output_type": "stream",
          "name": "stdout",
          "text": [
            "(3, 5)\n",
            "[[ 8  0 13 13  7]\n",
            " [ 2  3  3  0 13]\n",
            " [12  0  7  7  5]]\n"
          ]
        }
      ],
      "source": [
        "import numpy as np\n",
        "\n",
        "# Creating a random vector of size 15 with integers of range 1-20\n",
        "random_vector = np.random.randint(low=1, high=21, size=15)\n",
        "\n",
        "# Reshaping the vector to 3 by 5 array\n",
        "array_3x5 = random_vector.reshape(3, 5)\n",
        "\n",
        "# Printing the shape of the array\n",
        "print(array_3x5.shape)\n",
        "\n",
        "# Replacing the max in each row by 0\n",
        "array_3x5[np.arange(3), array_3x5.argmax(axis=1)] = 0\n",
        "\n",
        "# Print the modified array\n",
        "print(array_3x5)"
      ]
    },
    {
      "cell_type": "code",
      "source": [
        "# importing numpy library\n",
        "import numpy as np\n",
        "  \n",
        "# create numpy 2d-array\n",
        "m = np.array([[3,-2,],\n",
        "              [1,0]])\n",
        "  \n",
        "print(\"Printing the Original square array:\\n\", m)\n",
        "  \n",
        "# finding eigenvalues and eigenvectors\n",
        "w, v = np.linalg.eig(m)\n",
        "  \n",
        "# printing eigen values\n",
        "print(\"Printing the Eigen values of the given square array:\\n\", w)\n",
        "  \n",
        "# printing eigen vectors\n",
        "print(\"Printing Right eigenvectors of the given square array:\\n\", v)\n"
      ],
      "metadata": {
        "colab": {
          "base_uri": "https://localhost:8080/"
        },
        "id": "eH-JlyLRAf83",
        "outputId": "cb2f637c-4a79-4488-d6d2-b6d41e92e98a"
      },
      "execution_count": 5,
      "outputs": [
        {
          "output_type": "stream",
          "name": "stdout",
          "text": [
            "Printing the Original square array:\n",
            " [[ 3 -2]\n",
            " [ 1  0]]\n",
            "Printing the Eigen values of the given square array:\n",
            " [2. 1.]\n",
            "Printing Right eigenvectors of the given square array:\n",
            " [[0.89442719 0.70710678]\n",
            " [0.4472136  0.70710678]]\n"
          ]
        }
      ]
    },
    {
      "cell_type": "code",
      "source": [
        "import numpy as np\n",
        "m = np.arange(6).reshape(2,3)\n",
        "print(\"Original matrix:\")\n",
        "print(m)\n",
        "result =  np.trace(m)\n",
        "print(\"Condition number of the said matrix:\")\n",
        "print(result)"
      ],
      "metadata": {
        "colab": {
          "base_uri": "https://localhost:8080/"
        },
        "id": "ngPvIeMzBmoV",
        "outputId": "892d64dd-e31e-4f7e-de3c-4dc56af7dab9"
      },
      "execution_count": 9,
      "outputs": [
        {
          "output_type": "stream",
          "name": "stdout",
          "text": [
            "Original matrix:\n",
            "[[0 1 2]\n",
            " [3 4 5]]\n",
            "Condition number of the said matrix:\n",
            "4\n"
          ]
        }
      ]
    },
    {
      "cell_type": "code",
      "source": [
        "import matplotlib.pyplot as plt\n",
        "# Data to plot\n",
        "languages = 'Java', 'Python', 'PHP', 'JavaScript', 'C#', 'C++'\n",
        "popuratity = [22.2, 17.6, 8.8, 8, 7.7, 6.7]\n",
        "colors = [\"#1f77b4\", \"#ff7f0e\", \"#2ca02c\", \"#d62728\", \"#9467bd\", \"#8c564b\"]\n",
        "# explode 1st slice\n",
        "explode = (0.1, 0, 0, 0,0,0)  \n",
        "# Plot\n",
        "plt.pie(popuratity, explode=explode, labels=languages, colors=colors,\n",
        "autopct='%1.1f%%', shadow=True, startangle=140)\n",
        "\n",
        "plt.axis('equal')\n",
        "plt.show()"
      ],
      "metadata": {
        "colab": {
          "base_uri": "https://localhost:8080/",
          "height": 253
        },
        "id": "Iyra30mLCWav",
        "outputId": "95a85bf6-d927-4915-abdd-9951423ffa35"
      },
      "execution_count": 10,
      "outputs": [
        {
          "output_type": "display_data",
          "data": {
            "text/plain": [
              "<Figure size 432x288 with 1 Axes>"
            ],
            "image/png": "[encoded data removed]"
          },
          "metadata": {}
        }
      ]
    },
    {
      "cell_type": "code",
      "source": [
        "import numpy as np\n",
        "x = np.array([1, 2, 3, 4, 5, 6])\n",
        "y = np.reshape(x,(3,2))\n",
        "print(\"Reshape 3x2:\")\n",
        "print(y)\n",
        "z = np.reshape(x,(2,3))\n",
        "print(\"Reshape 2x3:\")\n",
        "print(z)\n"
      ],
      "metadata": {
        "colab": {
          "base_uri": "https://localhost:8080/"
        },
        "id": "8Oy4aqlRDIvN",
        "outputId": "f1885113-62af-4059-cd55-84fc9cc1ade5"
      },
      "execution_count": 11,
      "outputs": [
        {
          "output_type": "stream",
          "name": "stdout",
          "text": [
            "Reshape 3x2:\n",
            "[[1 2]\n",
            " [3 4]\n",
            " [5 6]]\n",
            "Reshape 2x3:\n",
            "[[1 2 3]\n",
            " [4 5 6]]\n"
          ]
        }
      ]
    }
  ]
}